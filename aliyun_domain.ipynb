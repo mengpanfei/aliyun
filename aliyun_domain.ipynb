{
 "cells": [
  {
   "cell_type": "code",
   "execution_count": 47,
   "metadata": {
    "ExecuteTime": {
     "end_time": "2020-05-30T07:01:42.328957Z",
     "start_time": "2020-05-30T07:01:42.312410Z"
    }
   },
   "outputs": [],
   "source": [
    "import requests\n",
    "import random\n",
    "import json\n",
    "import time\n",
    "import re\n",
    "requests.packages.urllib3.disable_warnings()\n",
    "\n",
    "UA=\"Mozilla/5.0 (Linux; Android 6.0; Nexus 5 Build/MRA58N) AppleWebKit/537.36 (KHTML, like Gecko) Chrome/81.0.4044.138 Mobile Safari/537.36\"\n",
    "user_cookie={\n",
    "\"mengpanfei\":\"_s0=eNpFkMtu00AUhhcIVISoyhugqqsqMTO2ZzyTFYnjNo5rW6kNKV5gfBm7Jh478TjNpULiIVjABhaseSyQeAuC0qq7T9%2F5j36dMzoSTIiirsKlYE04YxsdvEpqLkVlsVlWUlrzqKikuhJRyaQVi6XdkNeV5O3XzCqrvx7sw9b8Dsz0cA9OkcyqiLPDe%2B%2FvBGuf3nWa6UHbLJmzSzxmu57yCa%2FjomQfjqBCZUwI1mSIiKopj37%2F%2BvHny%2Be%2FP78%2FEPhGxKnto3ZcKiE8OVnZ%2BCJ3V2RWGuVsw4O2MS0%2B9FMxoetiQD4adkPpNmYt5FlInHn9Jhy4%2Fkq%2F9ge1Y8NgzFiaWXS7flfFDrquhViYgd7gVvPO15dFzmU9VrPzSE8HwdTc8jwdLbC4ugomuWqdTZfZ5mbO3p4CrgPwMiWQajjBSI0SFSoZAVDW1DgBVIlhlpGHM15wVuXzqMpY8Xqx%2BP%2FeZxBBCAABAMHnnuF5puuEtjs0LsD72yLtHSOIMSYa7I4Caox921V9RCZD7PTN6VTpnvXxpeP2ra5PfOocd5K2BxEFSJUhlZGCOlFyLzCmFJAOX%2Ffgru5T8A%2FdyLJB; Path=/; HttpOnly\",\n",
    "}\n",
    "\n",
    "def get_httpheader(username=\"mengpanfei\",refer='https://mi.aliyun.com/'):\n",
    "    if username==\"random\": \n",
    "        username=random.choice(list(user_cookie.keys()))\n",
    "    if username==\"UA\": username=\"mengpanfei\"\n",
    "    Cookie=user_cookie.get(username)\n",
    "    headers={'Cookie':Cookie,'Referer':refer,'User-Agent':UA,'accept':'application/json',\n",
    "             'Pragma':'no-cache','Cache-Control':'no-cache','content-type':'application/json'}\n",
    "    return headers\n",
    "\n",
    "\n",
    "\n",
    "\n",
    "def get_url_data(url,param,headers,MaxTry=2):\n",
    "    r=None\n",
    "    while MaxTry>0:\n",
    "        try:\n",
    "            r=requests.post(url,data=param,headers=headers,verify=False)\n",
    "            if r.json()['errorNo'] in ('00',\"30001\",\"30008\"): #30001狗状态改变不能操作，30008下架太频繁不能操作\n",
    "                break\n",
    "        except Exception as ex:\n",
    "            print(ex)\n",
    "            pass\n",
    "        MaxTry-=1\n",
    "        time.sleep(0.54)\n",
    "    return r\n",
    "\n",
    "def get_selling_domain(suffix=\"com\"):\n",
    "    headers=get_httpheader(\"mengpanfei\")\n",
    "    token=\"tdomain-aliyun-com:fsnDNnSvJzVWZ3sfhBVDsPzfJzrYaRp8\"\n",
    "\n",
    "    domains=[]\n",
    "    suffix=\"com\"\n",
    "    minPrice=1\n",
    "    maxPrice=10\n",
    "    currentPage=1\n",
    "    totalCount=500\n",
    "    while True:\n",
    "        if currentPage * 500 > totalCount: break\n",
    "        url=\"https://domainapi.aliyun.com/onsale/search?fetchSearchTotal=true&token={token}&currentPage={currentPage}&pageSize=500&suffix={suffix}&minPrice={minPrice}&maxPrice={maxPrice}&searchIntro=false&keywordAsPrefix=false&keywordAsSuffix=false&exKeywordAsPrefix=false&exKeywordAsSuffix=false&exKeywordAsPrefix2=false&exKeywordAsSuffix2=false&callback=jQuery111106068888000014647_{_}&_={_}\"\\\n",
    "            .format(token=token,currentPage=currentPage,suffix=suffix,minPrice=minPrice,maxPrice=maxPrice,_=int(time.time() * 1000)) # _=int(time.time() * 1000)\n",
    "        r=requests.get(url,headers=headers,verify=False)\n",
    "#         print(r.text)\n",
    "        jr=json.loads(re.findall(\"\\((.+)\\)\",r.text)[0])\n",
    "        totalCount=jr[\"data\"][\"searchTotal\"]\n",
    "        currentPage+=1\n",
    "        for domain in jr[\"data\"][\"pageResult\"][\"data\"]:\n",
    "            domains.append(domain)\n",
    "    return domains"
   ]
  },
  {
   "cell_type": "code",
   "execution_count": 48,
   "metadata": {
    "ExecuteTime": {
     "end_time": "2020-05-30T07:02:04.323773Z",
     "start_time": "2020-05-30T07:02:00.761851Z"
    }
   },
   "outputs": [
    {
     "name": "stdout",
     "output_type": "stream",
     "text": [
      "2020-08-03 4 1 chaodaka.com 7小时27分钟\n",
      "2020-12-23 4 1 dilushenshi.com 7小时27分钟\n",
      "2021-01-07 4 1 hiaichain.com 7小时27分钟\n",
      "2021-01-07 4 1 aichainapp.com 7小时27分钟\n",
      "2020-11-19 4 1 yaotmall.com 7小时27分钟\n",
      "2021-03-11 4 1 xwicloud.com 7小时27分钟\n",
      "2021-04-13 4 2 huibaigou.com 7小时27分钟\n",
      "2020-07-31 4 1 iosshouzhuan.com 8小时56分钟\n",
      "2021-03-31 4 1 gtsts.com 1天2小时37分钟\n",
      "2020-07-03 4 1 bjjzx.com 1天2小时37分钟\n",
      "2021-05-27 4 1 4swang.com 1天3小时53分钟\n",
      "2021-06-05 4 1 lriy.com 1天5小时39分钟\n",
      "2021-03-04 4 1 qdxe.com 1天5小时39分钟\n",
      "2021-08-22 4 1 yzpa.com 1天5小时39分钟\n",
      "2021-02-05 4 1 niubozhu.com 1天7小时57分钟\n",
      "2021-02-22 4 1 jingtengyun.com 1天7小时57分钟\n",
      "2020-11-13 4 1 jiedehua.com 1天7小时57分钟\n",
      "2020-12-13 4 1 hongtengge.com 1天7小时57分钟\n",
      "2020-10-26 4 1 hanghanglian.com 1天7小时57分钟\n",
      "2020-11-14 2 1 chjfu.com 长期\n",
      "2020-11-12 2 1 5elicai.com 长期\n",
      "2020-11-16 2 1 6faka.com 长期\n",
      "2020-11-16 2 1 100jiyi.com 长期\n",
      "2020-11-28 2 1 gdylink.com 长期\n"
     ]
    }
   ],
   "source": [
    "domains=get_selling_domain()\n",
    "\n",
    "## productType: 13=议价域名, 2=一口价, 4=竞价\n",
    "for dom in domains:\n",
    "    if dom[\"productType\"]==13: continue\n",
    "    if not re.match(\"[a-z0-9\\.]\",dom[\"domainName\"]): continue\n",
    "    price=\"-\"\n",
    "    if \"price\" in dom:\n",
    "        price=dom[\"price\"]\n",
    "    if int(price)>2: continue #只要1块钱的\n",
    "    print(dom[\"deadDate\"],dom[\"productType\"],price,dom[\"domainName\"],dom[\"endTimeRemainingDay\"])\n",
    "    "
   ]
  },
  {
   "cell_type": "code",
   "execution_count": null,
   "metadata": {},
   "outputs": [],
   "source": []
  }
 ],
 "metadata": {
  "kernelspec": {
   "display_name": "Python 3",
   "language": "python",
   "name": "python3"
  },
  "language_info": {
   "codemirror_mode": {
    "name": "ipython",
    "version": 3
   },
   "file_extension": ".py",
   "mimetype": "text/x-python",
   "name": "python",
   "nbconvert_exporter": "python",
   "pygments_lexer": "ipython3",
   "version": "3.6.8"
  },
  "toc": {
   "base_numbering": 1,
   "nav_menu": {},
   "number_sections": true,
   "sideBar": true,
   "skip_h1_title": false,
   "title_cell": "Table of Contents",
   "title_sidebar": "Contents",
   "toc_cell": false,
   "toc_position": {},
   "toc_section_display": true,
   "toc_window_display": false
  }
 },
 "nbformat": 4,
 "nbformat_minor": 4
}
