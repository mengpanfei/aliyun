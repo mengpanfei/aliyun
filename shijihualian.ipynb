{
 "cells": [
  {
   "cell_type": "code",
   "execution_count": 2,
   "metadata": {},
   "outputs": [
    {
     "data": {
      "application/vnd.jupyter.widget-view+json": {
       "model_id": "3e486e949d6d4c54aba7cbcea32da43b",
       "version_major": 2,
       "version_minor": 0
      },
      "text/plain": [
       "Image(value=b'\\xff\\xd8\\xff\\xe0\\x00\\x10JFIF\\x00\\x01\\x02\\x00\\x00\\x01\\x00\\x01\\x00\\x00\\xff\\xdb\\x00C\\x00\\x08\\x06\\x0…"
      ]
     },
     "metadata": {},
     "output_type": "display_data"
    }
   ],
   "source": [
    "import  requests\n",
    "from bs4 import BeautifulSoup\n",
    "import urllib\n",
    "\n",
    "import ipywidgets\n",
    "ipywidgets.Image(value=requests.get('http://b2b.hnsjlh.com/login/image.jsp').content)\n",
    "\n",
    "# import IPython\n",
    "# IPython.display.Image(url= \"http://b2b.hnsjlh.com/login/image.jsp\") #有缓存不更新\n",
    "\n",
    "# url=\"http://b2b.hnsjlh.com/login/image.jsp\" #获取验证码\n",
    "# resp=requests.get(url)\n",
    "# resp.text\n",
    "# urllib.request.urlretrieve(url,'yzm.jpg')"
   ]
  },
  {
   "cell_type": "code",
   "execution_count": 3,
   "metadata": {},
   "outputs": [],
   "source": [
    "def download_xls(startdate,enddate):\n",
    "    ua=\"Mozilla/5.0 (Windows NT 6.1; Win64; x64) AppleWebKit/537.36 (KHTML, like Gecko) Chrome/81.0.4044.129 Safari/537.36\"\n",
    "    cookie=\"Hm_lvt_ba777c4246921d7c7126f07e31f5b5b8=1588659803; JSESSIONID=E8A7786773F7816994C1871319E72EFA; Hm_lpvt_ba777c4246921d7c7126f07e31f5b5b8=1588660958\"\n",
    "    url=\"http://b2b.hnsjlh.com/query.do?methods=xscx&qsrq={startdate}&zzrq={enddate}&dltype=xls\".format(startdate=startdate,enddate=enddate)\n",
    "\n",
    "    # 添加header\n",
    "    opener = urllib.request.build_opener()\n",
    "    opener.addheaders = [(\"User-agent\", ua),(\"Cookie\" , cookie)]\n",
    "    urllib.request.install_opener(opener)\n",
    "\n",
    "    urllib.request.urlretrieve(url,'x.xls')\n",
    "download_xls(20200502,20200502)"
   ]
  }
 ],
 "metadata": {
  "kernelspec": {
   "display_name": "Python 3",
   "language": "python",
   "name": "python3"
  },
  "language_info": {
   "codemirror_mode": {
    "name": "ipython",
    "version": 3
   },
   "file_extension": ".py",
   "mimetype": "text/x-python",
   "name": "python",
   "nbconvert_exporter": "python",
   "pygments_lexer": "ipython3",
   "version": "3.6.8"
  }
 },
 "nbformat": 4,
 "nbformat_minor": 4
}
