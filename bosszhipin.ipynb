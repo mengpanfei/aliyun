{
 "cells": [
  {
   "cell_type": "markdown",
   "metadata": {
    "toc": true
   },
   "source": [
    "<h1>Table of Contents<span class=\"tocSkip\"></span></h1>\n",
    "<div class=\"toc\"><ul class=\"toc-item\"></ul></div>"
   ]
  },
  {
   "cell_type": "code",
   "execution_count": 1,
   "metadata": {
    "ExecuteTime": {
     "end_time": "2020-05-06T12:08:29.099156Z",
     "start_time": "2020-05-06T12:08:28.838566Z"
    }
   },
   "outputs": [],
   "source": [
    "import requests,threading,time,random,sys,datetime\n",
    "import datetime\n",
    "from urllib import request, parse\n",
    "import json\n",
    "from bs4 import BeautifulSoup\n",
    "\n",
    "requests.packages.urllib3.disable_warnings()\n",
    "\n",
    "UA='Mozilla/5.0 (Windows NT 6.1; Win64; x64) AppleWebKit/537.36 (KHTML, like Gecko) Chrome/77.0.3865.90 Safari/537.36'\n",
    "Cookie='sid=sem; toUrl=/; JSESSIONID=\"\"; __g=sem; Hm_lvt_194df3105ad7148dcf2b98a91b5e727a=1588760958; lastCity=100010000; __c=1588760963; __l=r=https%3A%2F%2Fwww.zhipin.com%2Fuser%2Fsem7.html%3Fsid%3Dsem%26qudao%3Dbdpc_baidu-%25E5%258D%258E%25E5%2593%2581%25E5%258D%259A%25E7%259D%25BF02A18KA0679%26plan%3DNew-%25E6%258B%259B%25E8%2581%2598%25E4%25BF%25A1%25E6%2581%25AF817%26unit%3D%25E6%258B%259B%25E8%2581%2598%25E7%25BD%25911%26keyword%3Dboss%25E7%259B%25B4%25E8%2581%2598%25E7%25BD%2591%26bd_vid%3D11622241694631876786&l=%2Fwww.zhipin.com%2Fjob_detail%2F%3Fka%3Dheader-job&g=%2Fwww.zhipin.com%2Fuser%2Fsem7.html%3Fsid%3Dsem%26qudao%3Dbdpc_baidu-%25E5%258D%258E%25E5%2593%2581%25E5%258D%259A%25E7%259D%25BF02A18KA0679%26plan%3DNew-%25E6%258B%259B%25E8%2581%2598%25E4%25BF%25A1%25E6%2581%25AF817%26unit%3D%25E6%258B%259B%25E8%2581%2598%25E7%25BD%25911%26keyword%3Dboss%25E7%259B%25B4%25E8%2581%2598%25E7%25BD%2591%26bd_vid%3D11622241694631876786&friend_source=0&friend_source=0; __zp_stoken__=7ddfwQOjgux%2FMDpabXgnHA6ndvXQDm%2FMsI2D4QAak6Z1kG6W7tEZyUGC%2BjMgJk%2FcciTOncT6AaNsgtYZxgfF6V6lOEe5lFVEPJt2IeiRhnKUk4zHbm130jg0AcvdhTI2%2FViu; __a=67388255.1588760956.1588760956.1588760963.14.2.13.14; Hm_lpvt_194df3105ad7148dcf2b98a91b5e727a=1588763919'\n"
   ]
  },
  {
   "cell_type": "code",
   "execution_count": 2,
   "metadata": {
    "ExecuteTime": {
     "end_time": "2020-05-06T12:08:30.795482Z",
     "start_time": "2020-05-06T12:08:30.740150Z"
    }
   },
   "outputs": [],
   "source": [
    "url=\"https://www.zhipin.com/job_detail/?ka=header-job\"\n",
    "refer=\"https://www.zhipin.com\"\n",
    "headers={'Cookie':Cookie,'Referer':refer,'User-Agent':UA,'accept':'application/json',\n",
    "         'Pragma':'no-cache','Cache-Control':'no-cache','content-type':'application/x-www-form-urlencoded; charset=UTF-8'}\n",
    "resp=requests.get(url)"
   ]
  },
  {
   "cell_type": "code",
   "execution_count": 4,
   "metadata": {
    "ExecuteTime": {
     "end_time": "2020-05-06T12:09:13.497309Z",
     "start_time": "2020-05-06T12:09:13.488977Z"
    }
   },
   "outputs": [
    {
     "ename": "SyntaxError",
     "evalue": "invalid syntax (<ipython-input-4-bf48f8b80e68>, line 1)",
     "output_type": "error",
     "traceback": [
      "\u001b[0;36m  File \u001b[0;32m\"<ipython-input-4-bf48f8b80e68>\"\u001b[0;36m, line \u001b[0;32m1\u001b[0m\n\u001b[0;31m    <div class=\"girk\">\u001b[0m\n\u001b[0m    ^\u001b[0m\n\u001b[0;31mSyntaxError\u001b[0m\u001b[0;31m:\u001b[0m invalid syntax\n"
     ]
    }
   ],
   "source": [
    "resp.text"
   ]
  }
 ],
 "metadata": {
  "kernelspec": {
   "display_name": "Python 3",
   "language": "python",
   "name": "python3"
  },
  "language_info": {
   "codemirror_mode": {
    "name": "ipython",
    "version": 3
   },
   "file_extension": ".py",
   "mimetype": "text/x-python",
   "name": "python",
   "nbconvert_exporter": "python",
   "pygments_lexer": "ipython3",
   "version": "3.6.8"
  },
  "toc": {
   "base_numbering": 1,
   "nav_menu": {},
   "number_sections": true,
   "sideBar": true,
   "skip_h1_title": true,
   "title_cell": "Table of Contents",
   "title_sidebar": "Contents",
   "toc_cell": true,
   "toc_position": {
    "height": "calc(100% - 180px)",
    "left": "10px",
    "top": "150px",
    "width": "182.594px"
   },
   "toc_section_display": true,
   "toc_window_display": true
  }
 },
 "nbformat": 4,
 "nbformat_minor": 4
}
