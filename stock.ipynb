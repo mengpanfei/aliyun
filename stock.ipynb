{
 "cells": [
  {
   "cell_type": "code",
   "execution_count": 1,
   "metadata": {},
   "outputs": [],
   "source": [
    "import requests\n",
    "import json\n",
    "import urllib\n",
    "\n",
    "url=\"http://gu.sina.cn/m/#/stock/block?type=all\" #板块列表\n",
    "url=\"http://gu.sina.cn/hq/api/openapi.php/StockV2Service.getPlateList?sort=percent&asc=0&page=1&num=1000&dpc=1&plate=all\" \n",
    "\n",
    "r=requests.get(url)\n",
    "jr=json.loads(r.text)\n",
    "    "
   ]
  },
  {
   "cell_type": "code",
   "execution_count": 4,
   "metadata": {},
   "outputs": [
    {
     "data": {
      "text/plain": [
       "644"
      ]
     },
     "execution_count": 4,
     "metadata": {},
     "output_type": "execute_result"
    }
   ],
   "source": [
    "for b in jr['result']['data']['data']:\n",
    "#     print(b)\n",
    "    pass\n",
    "\n",
    "len(jr['result']['data']['data'])"
   ]
  }
 ],
 "metadata": {
  "kernelspec": {
   "display_name": "Python 3",
   "language": "python",
   "name": "python3"
  },
  "language_info": {
   "codemirror_mode": {
    "name": "ipython",
    "version": 3
   },
   "file_extension": ".py",
   "mimetype": "text/x-python",
   "name": "python",
   "nbconvert_exporter": "python",
   "pygments_lexer": "ipython3",
   "version": "3.6.8"
  }
 },
 "nbformat": 4,
 "nbformat_minor": 4
}
